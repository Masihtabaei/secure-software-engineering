{
 "cells": [
  {
   "cell_type": "markdown",
   "id": "362a4318-df39-4bee-8610-fc12caf8b025",
   "metadata": {},
   "source": [
    "# Aufgabe: Ownership -- Immutable Reference"
   ]
  },
  {
   "cell_type": "markdown",
   "id": "7308ac18-788b-470e-958d-8770479390d3",
   "metadata": {},
   "source": [
    "Hier sind die Ownership Regeln für __immutable__ Referenzen für einzelne Speicher-relevante Operationen aufgeführt.\n",
    "\n",
    "__Source__:\n",
    "* 1) Read of source permitted\n",
    "* 2) Write of source forbidden\n",
    "* 3) Move of source forbidden\n",
    "* 4) Further `&` of source permitted\n",
    "* 5) `&mut` of source forbidden\n",
    "\n",
    "__Immutable Reference__:\n",
    "* 6) Read of `&` permitted\n",
    "* 7) Copy of `&` permitted\n",
    "* 8) Write of `&` forbidden\n",
    "* 9) Further `&` of reference permitted\n",
    "* 10) `&mut` of reference forbidden\n",
    "\n",
    "Hinweis zu 7): `&` erlaubt kein Move, da es keinen Owner hat.\n",
    "\n",
    "Prüfen Sie diese Regeln jeweils gezielt einzeln ab, indem Sie entsprechende Operationen durchführen:\n",
    "* so dass bei zulässigen Operationen kein Fehler hervorgerufen wird, und\n",
    "* so dass bei unzulässigen Operationen ein (passender) Fehler hervorgerufen wird"
   ]
  },
  {
   "cell_type": "code",
   "execution_count": null,
   "id": "11e3f9ac-e5bf-40a6-a902-18798d5bb4a4",
   "metadata": {},
   "outputs": [],
   "source": [
    "// 1. Read of source permitted\n"
   ]
  },
  {
   "cell_type": "code",
   "execution_count": null,
   "id": "4dbf38c8-682a-4c39-a9a2-97406e3d2f9b",
   "metadata": {},
   "outputs": [],
   "source": [
    "// 2. Write of source forbidden\n"
   ]
  },
  {
   "cell_type": "code",
   "execution_count": null,
   "id": "72e05bdc-02e1-4282-b774-c898bfb91cea",
   "metadata": {},
   "outputs": [],
   "source": [
    "// 3. Move of source forbidden\n"
   ]
  },
  {
   "cell_type": "code",
   "execution_count": null,
   "id": "4672353b-1691-4fd8-9f0e-ef00f0705c8f",
   "metadata": {},
   "outputs": [],
   "source": [
    "// 4. Further & of source permitted\n"
   ]
  },
  {
   "cell_type": "code",
   "execution_count": null,
   "id": "5b61cb63-fd85-4323-b161-40179039b3b8",
   "metadata": {},
   "outputs": [],
   "source": [
    "// 5. &mut of source forbidden\n"
   ]
  },
  {
   "cell_type": "code",
   "execution_count": null,
   "id": "80e77617-fb0c-4752-b61a-0157376c442b",
   "metadata": {},
   "outputs": [],
   "source": [
    "// 6. Read of & permitted\n"
   ]
  },
  {
   "cell_type": "code",
   "execution_count": null,
   "id": "eadcaa52-8ba1-4fd1-b2e6-22dd1a38058a",
   "metadata": {},
   "outputs": [],
   "source": [
    "// 7. Copy of & permitted\n"
   ]
  },
  {
   "cell_type": "code",
   "execution_count": null,
   "id": "65c3a7a7-d036-40bc-a3eb-6d7a8c3f6b1e",
   "metadata": {},
   "outputs": [],
   "source": [
    "// 8. Write of & forbidden\n"
   ]
  },
  {
   "cell_type": "code",
   "execution_count": null,
   "id": "40f532fb-f60b-4226-8ff4-3529547b1315",
   "metadata": {},
   "outputs": [],
   "source": [
    "// 9. Further & of reference permitted\n"
   ]
  },
  {
   "cell_type": "code",
   "execution_count": null,
   "id": "c921caf1-f036-402f-8b4a-975efb87c833",
   "metadata": {},
   "outputs": [],
   "source": [
    "// 10. &mut of reference forbidden\n"
   ]
  },
  {
   "cell_type": "code",
   "execution_count": null,
   "id": "3445c7fe-9fa0-4b18-8dc4-0a3fea50d7fd",
   "metadata": {},
   "outputs": [],
   "source": []
  }
 ],
 "metadata": {
  "kernelspec": {
   "display_name": "Rust",
   "language": "rust",
   "name": "rust"
  },
  "language_info": {
   "codemirror_mode": "rust",
   "file_extension": ".rs",
   "mimetype": "text/rust",
   "name": "Rust",
   "pygment_lexer": "rust",
   "version": ""
  }
 },
 "nbformat": 4,
 "nbformat_minor": 5
}
