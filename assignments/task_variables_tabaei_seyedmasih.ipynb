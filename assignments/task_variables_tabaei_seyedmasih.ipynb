{
 "cells": [
  {
   "cell_type": "markdown",
   "id": "90c1d8eb-bb61-4424-b7ee-b34f5311b2fa",
   "metadata": {},
   "source": [
    "# Aufgabe: Variablen\n",
    "\n",
    "## Mutabilität\n",
    "\n",
    "Verwenden Sie im Folgenden als Variablen-Namen jeweils den Buchstaben der zugehörigen Aufgabenstellung, also a, b, ...\n",
    "* __Schreiben Sie nach jedem Aufgabenpunkt eine Assertion__ (`assert!()`), was die Variable für einen Wert haben sollte.\n",
    "* Schauen Sie sich bei Fehlern die jeweilige Fehlermeldung an und schlagen Sie auch die Fehler-Codes \\[E****\\] nach sofern sie angeben sind.\n",
    "\n",
    "Lösen Sie folgende Aufgaben:\n",
    "* (a) Legen Sie eine immutable Variable ohne Initialisierung und ohne Typ an. Initialisieren Sie die Varible in einer nachfolgenden Zuweisung mit einer Zahl.\n",
    "* (b) Legen Sie eine immutable Variable ohne Typ mit direkter Initialisierung an.\n",
    "* (c) Legen Sie eine immutable Variable ohne Typ mit direkter Initialisierung an und überschreiben Sie diese Variable in einer nachfolgenden Zuweisung mit einer Zahl (erzeugen Sie den Fehler _E0384_, kommentieren Sie die fehlerhafte Zeile danach aus).\n",
    "* (d) Legen Sie eine immutable Variable ohne Initialisierung und ohne Typ an und initialisieren Sie sie NICHT! (erzeugen Sie den Fehler _E0282_, kommentieren Sie die fehlerhafte Zeile danach aus).\n",
    "* (e) Legen Sie eine mutable Variable ohne Typ und ohne Initialisierung an. Initialisieren Sie die Varible in einer nachfolgenden Zuweisung.\n",
    "* (f) Legen Sie eine mutable Variable ohne Typ und mit direkter Initialisierung an und überschreiben Sie diese Variable in einer nachfolgenden Zuweisung.\n",
    "* (g) Legen Sie eine mutable Variable ohne Typ und ohne Initialisierung an und initialisieren Sie sie NICHT! (erzeugen Sie den Fehler E0282, kommentieren Sie die fehlerhafte Zeile danach aus)."
   ]
  },
  {
   "cell_type": "code",
   "execution_count": 12,
   "id": "12465e1d-a855-4da0-9d2e-163e00e2a35d",
   "metadata": {},
   "outputs": [],
   "source": []
  },
  {
   "cell_type": "markdown",
   "id": "8fbc55ac-b058-4bfd-a9c4-c214bc1e0c55",
   "metadata": {},
   "source": [
    "## Elementare Typen\n",
    "\n",
    "Ordnen Sie verschiedenen Variablen (a,b,...) jeweils einen der folgenden Werte (ohne Typ-Deklaration) zu.\n",
    "Geben Sie mit der vorliegenden Funktion `type_of()` den Daten-Typ, der implizit hergeleitet wird, mit dem `println!()`-Befehl aus.\n",
    "\n",
    "Die Typ-Ausgabe Funktion (inkl. Import) lautet:\n",
    "```\n",
    "use std::any::type_name;\n",
    "\n",
    "fn type_of<T>(_: T) -> &'static str {\n",
    "    type_name::<T>()\n",
    "}\n",
    "```\n",
    "\n",
    "* (a) `123` (Integer)\n",
    "* (b) `true` (Boolean)\n",
    "* (c) `\"abc\"` (String Slice)\n",
    "* (d) `0.0` (Float)\n",
    "* (e) `'w'` (Character)\n",
    "\n",
    "Deklarieren Sie nun (einschränkend) den Datentyp:\n",
    "* (f) `12` mit `u8`\n",
    "* (g) `512` mit `u8` (erzeugt Fehler)\n",
    "* (h) `-4` mit `u8` (erzeugt Fehler _E0600_)\n",
    "\n",
    "Untersuchen Sie Neuzuweisungen:\n",
    "* (i) weisen sie `a` den Wert `true` zu (erzeugt Fehler _E0308_)\n",
    "* (j) weisen sie `d` den Wert `1` zu (erzeugt Fehler _E0308_)\n",
    "* (k) weisen sie `d` den Wert `1` und führen Sie einen Typecast nach f64 durch -- nutzen Sie: `Zieltyp:from(Wert)`."
   ]
  },
  {
   "cell_type": "code",
   "execution_count": null,
   "id": "aa42089b-4b9d-4d04-b7e1-4faf2c536c64",
   "metadata": {},
   "outputs": [],
   "source": [
    "use std::any::type_name;\n",
    "\n",
    "fn type_of<T>(_: T) -> &'static str {\n",
    "    type_name::<T>()\n",
    "}\n",
    "\n",
    "let mut a = 123;\n",
    "println!(\"{}\", type_of(a));\n",
    "\n"
   ]
  },
  {
   "cell_type": "code",
   "execution_count": null,
   "id": "242f06c9-b872-4122-b1be-f5cad5bf75fd",
   "metadata": {},
   "outputs": [],
   "source": []
  }
 ],
 "metadata": {
  "kernelspec": {
   "display_name": "Rust",
   "language": "rust",
   "name": "rust"
  },
  "language_info": {
   "codemirror_mode": "rust",
   "file_extension": ".rs",
   "mimetype": "text/rust",
   "name": "Rust",
   "pygment_lexer": "rust",
   "version": ""
  }
 },
 "nbformat": 4,
 "nbformat_minor": 5
}
