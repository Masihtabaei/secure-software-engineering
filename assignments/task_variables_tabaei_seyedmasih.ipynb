{
 "cells": [
  {
   "cell_type": "markdown",
   "id": "90c1d8eb-bb61-4424-b7ee-b34f5311b2fa",
   "metadata": {},
   "source": [
    "# Aufgabe: Variablen\n",
    "\n",
    "## Mutabilität\n",
    "\n",
    "Verwenden Sie im Folgenden als Variablen-Namen jeweils den Buchstaben der zugehörigen Aufgabenstellung, also a, b, ...\n",
    "* __Schreiben Sie nach jedem Aufgabenpunkt eine Assertion__ (`assert!()`), was die Variable für einen Wert haben sollte.\n",
    "* Schauen Sie sich bei Fehlern die jeweilige Fehlermeldung an und schlagen Sie auch die Fehler-Codes \\[E****\\] nach sofern sie angeben sind.\n",
    "\n",
    "Lösen Sie folgende Aufgaben:\n",
    "* (a) Legen Sie eine immutable Variable ohne Initialisierung und ohne Typ an. Initialisieren Sie die Varible in einer nachfolgenden Zuweisung mit einer Zahl.\n",
    "* (b) Legen Sie eine immutable Variable ohne Typ mit direkter Initialisierung an.\n",
    "* (c) Legen Sie eine immutable Variable ohne Typ mit direkter Initialisierung an und überschreiben Sie diese Variable in einer nachfolgenden Zuweisung mit einer Zahl (erzeugen Sie den Fehler _E0384_, kommentieren Sie die fehlerhafte Zeile danach aus).\n",
    "* (d) Legen Sie eine immutable Variable ohne Initialisierung und ohne Typ an und initialisieren Sie sie NICHT! (erzeugen Sie den Fehler _E0282_, kommentieren Sie die fehlerhafte Zeile danach aus).\n",
    "* (e) Legen Sie eine mutable Variable ohne Typ und ohne Initialisierung an. Initialisieren Sie die Varible in einer nachfolgenden Zuweisung.\n",
    "* (f) Legen Sie eine mutable Variable ohne Typ und mit direkter Initialisierung an und überschreiben Sie diese Variable in einer nachfolgenden Zuweisung.\n",
    "* (g) Legen Sie eine mutable Variable ohne Typ und ohne Initialisierung an und initialisieren Sie sie NICHT! (erzeugen Sie den Fehler E0282, kommentieren Sie die fehlerhafte Zeile danach aus)."
   ]
  },
  {
   "cell_type": "code",
   "execution_count": 6,
   "id": "12465e1d-a855-4da0-9d2e-163e00e2a35d",
   "metadata": {},
   "outputs": [],
   "source": [
    "// Task a\n",
    "let a;\n",
    "a = 127;\n",
    "assert!(a == 127);"
   ]
  },
  {
   "cell_type": "code",
   "execution_count": 8,
   "id": "a0f229e2-2d57-4b30-8927-fe10ee574d47",
   "metadata": {},
   "outputs": [],
   "source": [
    "// Task b\n",
    "let b = 126;\n",
    "assert!(b == 126);"
   ]
  },
  {
   "cell_type": "code",
   "execution_count": 21,
   "id": "4f31bd68-5dda-4e11-a812-ead4036f7d38",
   "metadata": {},
   "outputs": [],
   "source": [
    "// Task c\n",
    "let c = 125;\n",
    "// Following line produces following error: [E0384] Error: cannot assign twice to immutable variable `c`\n",
    "// c = 126;\n",
    "assert!(c == 125);"
   ]
  },
  {
   "cell_type": "code",
   "execution_count": null,
   "id": "5a4c8893-ad73-4b06-b01e-4e9a85262b23",
   "metadata": {},
   "outputs": [],
   "source": [
    "// Task d\n",
    "// Following line produces following error: [E0282] Error: type annotations needed\n",
    "// let d;"
   ]
  },
  {
   "cell_type": "code",
   "execution_count": 16,
   "id": "30833611-9115-4e56-bdfc-f8fd6fd22343",
   "metadata": {},
   "outputs": [],
   "source": [
    "// Task e\n",
    "let mut e;\n",
    "e = 124;\n",
    "assert!(e == 124);"
   ]
  },
  {
   "cell_type": "code",
   "execution_count": 20,
   "id": "81fb0330-b8eb-45c1-93c3-3357e8e7ad36",
   "metadata": {},
   "outputs": [],
   "source": [
    "// Task f\n",
    "let mut f = 123;\n",
    "f = 122;\n",
    "assert!(f == 122);"
   ]
  },
  {
   "cell_type": "code",
   "execution_count": null,
   "id": "60d3f044-6b3a-485b-832f-a883450bf16c",
   "metadata": {},
   "outputs": [],
   "source": [
    "// Task g\n",
    "// Following line produces following error: [E0282] Error: type annotations needed\n",
    "// let mut g;"
   ]
  },
  {
   "cell_type": "markdown",
   "id": "8fbc55ac-b058-4bfd-a9c4-c214bc1e0c55",
   "metadata": {},
   "source": [
    "## Elementare Typen\n",
    "\n",
    "Ordnen Sie verschiedenen Variablen (a,b,...) jeweils einen der folgenden Werte (ohne Typ-Deklaration) zu.\n",
    "Geben Sie mit der vorliegenden Funktion `type_of()` den Daten-Typ, der implizit hergeleitet wird, mit dem `println!()`-Befehl aus.\n",
    "\n",
    "Die Typ-Ausgabe Funktion (inkl. Import) lautet:\n",
    "```\n",
    "use std::any::type_name;\n",
    "\n",
    "fn type_of<T>(_: T) -> &'static str {\n",
    "    type_name::<T>()\n",
    "}\n",
    "```\n",
    "\n",
    "* (a) `123` (Integer)\n",
    "* (b) `true` (Boolean)\n",
    "* (c) `\"abc\"` (String Slice)\n",
    "* (d) `0.0` (Float)\n",
    "* (e) `'w'` (Character)\n",
    "\n",
    "Deklarieren Sie nun (einschränkend) den Datentyp:\n",
    "* (f) `12` mit `u8`\n",
    "* (g) `512` mit `u8` (erzeugt Fehler)\n",
    "* (h) `-4` mit `u8` (erzeugt Fehler _E0600_)\n",
    "\n",
    "Untersuchen Sie Neuzuweisungen:\n",
    "* (i) weisen sie `a` den Wert `true` zu (erzeugt Fehler _E0308_)\n",
    "* (j) weisen sie `d` den Wert `1` zu (erzeugt Fehler _E0308_)\n",
    "* (k) weisen sie `d` den Wert `1` und führen Sie einen Typecast nach f64 durch -- nutzen Sie: `Zieltyp:from(Wert)`."
   ]
  },
  {
   "cell_type": "code",
   "execution_count": 26,
   "id": "aa42089b-4b9d-4d04-b7e1-4faf2c536c64",
   "metadata": {},
   "outputs": [],
   "source": [
    "use std::any::type_name;\n",
    "\n",
    "fn type_of<T>(_: T) -> &'static str {\n",
    "    type_name::<T>()\n",
    "}"
   ]
  },
  {
   "cell_type": "code",
   "execution_count": 33,
   "id": "05313eca-c344-4c8d-947e-0f832bfbe9aa",
   "metadata": {},
   "outputs": [
    {
     "name": "stdout",
     "output_type": "stream",
     "text": [
      "i32\n"
     ]
    }
   ],
   "source": [
    "// Task a\n",
    "let mut a = 123;\n",
    "assert!(a == 123);\n",
    "println!(\"{}\", type_of(a));"
   ]
  },
  {
   "cell_type": "code",
   "execution_count": 34,
   "id": "49e0e6e5-33dc-44a3-8617-454ae77644e0",
   "metadata": {},
   "outputs": [
    {
     "name": "stdout",
     "output_type": "stream",
     "text": [
      "bool\n"
     ]
    }
   ],
   "source": [
    "// Task b\n",
    "let b = true;\n",
    "assert!(b == true);\n",
    "println!(\"{}\", type_of(b));"
   ]
  },
  {
   "cell_type": "code",
   "execution_count": 35,
   "id": "a2e32e12-ffd7-4375-8f40-c53c4e4d79ef",
   "metadata": {},
   "outputs": [
    {
     "name": "stdout",
     "output_type": "stream",
     "text": [
      "&str\n"
     ]
    }
   ],
   "source": [
    "// Task c\n",
    "let c = \"abc\";\n",
    "assert!(c == \"abc\");\n",
    "println!(\"{}\", type_of(c));"
   ]
  },
  {
   "cell_type": "code",
   "execution_count": 36,
   "id": "e927ddee-ece2-4c46-9928-06f3061be489",
   "metadata": {},
   "outputs": [
    {
     "name": "stdout",
     "output_type": "stream",
     "text": [
      "f64\n"
     ]
    }
   ],
   "source": [
    "// Task d\n",
    "let mut d = 0.0;\n",
    "assert!(d == 0.0);\n",
    "println!(\"{}\", type_of(d));"
   ]
  },
  {
   "cell_type": "code",
   "execution_count": 39,
   "id": "86cda91a-cea6-4789-8796-336dd36dcd9e",
   "metadata": {},
   "outputs": [
    {
     "name": "stdout",
     "output_type": "stream",
     "text": [
      "char\n"
     ]
    }
   ],
   "source": [
    "// Task e\n",
    "let e = 'W';\n",
    "assert!(e == 'W');\n",
    "println!(\"{}\", type_of(e));"
   ]
  },
  {
   "cell_type": "code",
   "execution_count": 40,
   "id": "bf3f6439-f9f8-4127-97d2-4d8559c089ae",
   "metadata": {},
   "outputs": [
    {
     "name": "stdout",
     "output_type": "stream",
     "text": [
      "u8\n"
     ]
    }
   ],
   "source": [
    "// Task f\n",
    "let f : u8 = 12;\n",
    "assert!(f == 12);\n",
    "println!(\"{}\", type_of(f));"
   ]
  },
  {
   "cell_type": "code",
   "execution_count": null,
   "id": "58e78819-d966-4d8f-a576-99b6894af810",
   "metadata": {},
   "outputs": [],
   "source": [
    "// Task g\n",
    "// Following line produces following error: [overflowing_literals] Error: literal out of range for `u8`\n",
    "// let g : u8 = 512;\n",
    "// assert!(g == 512);\n",
    "// println!(\"{}\", type_of(g));"
   ]
  },
  {
   "cell_type": "code",
   "execution_count": null,
   "id": "402bdf71-d9a1-4b7c-a82d-7bd96096eaf4",
   "metadata": {},
   "outputs": [],
   "source": [
    "// Task h\n",
    "// Following line produces following error: [E0600] Error: cannot apply unary operator `-` to type `u8`\n",
    "// let h : u8 = -4;\n",
    "// assert!(h == -4);\n",
    "// println!(\"{}\", type_of(h));"
   ]
  },
  {
   "cell_type": "code",
   "execution_count": null,
   "id": "2d18fb6f-714e-4de3-a8f8-edcb53d8f420",
   "metadata": {},
   "outputs": [],
   "source": [
    "// Task i\n",
    "// Following line produces following error: [E0308] Error: mismatched types\n",
    "// a = true;\n",
    "// assert!(a == true);\n",
    "// println!(\"{}\", type_of(a));"
   ]
  },
  {
   "cell_type": "code",
   "execution_count": null,
   "id": "d8bc56e0-8322-47c8-ac17-5c4a57e51087",
   "metadata": {},
   "outputs": [],
   "source": [
    "// Task j\n",
    "// Following line produces following error: [E0308] Error: mismatched types\n",
    "// d = 1;\n",
    "// assert!(d == true);\n",
    "// println!(\"{}\", type_of(d));"
   ]
  },
  {
   "cell_type": "code",
   "execution_count": 60,
   "id": "ba4224bb-1037-4780-a5e5-56d101beced3",
   "metadata": {},
   "outputs": [
    {
     "name": "stdout",
     "output_type": "stream",
     "text": [
      "f64\n"
     ]
    }
   ],
   "source": [
    "// Task k\n",
    "d = f64::from(1);\n",
    "assert!(d == 1.0);\n",
    "println!(\"{}\", type_of(d));"
   ]
  }
 ],
 "metadata": {
  "kernelspec": {
   "display_name": "Rust",
   "language": "rust",
   "name": "rust"
  },
  "language_info": {
   "codemirror_mode": "rust",
   "file_extension": ".rs",
   "mimetype": "text/rust",
   "name": "Rust",
   "pygment_lexer": "rust",
   "version": ""
  }
 },
 "nbformat": 4,
 "nbformat_minor": 5
}
