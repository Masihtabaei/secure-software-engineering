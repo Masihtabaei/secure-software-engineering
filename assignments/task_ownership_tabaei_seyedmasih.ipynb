{
 "cells": [
  {
   "cell_type": "markdown",
   "id": "362a4318-df39-4bee-8610-fc12caf8b025",
   "metadata": {},
   "source": [
    "# Aufgabe: Ownership -- Move, Copy, Clone"
   ]
  },
  {
   "cell_type": "markdown",
   "id": "ba4592e7-6d7a-44fd-ad07-ee9ce72c9816",
   "metadata": {},
   "source": [
    "Prüfen Sie folgende Regeln mit Beispiel-Code gezielt ab.\n",
    "* (a) Zeigen Sie, dass die Quell-Variable mit Heap nach einem __Move__ nicht mehr verfügbar ist.\n",
    "* (b) Zeigen Sie, dass die Quell-Variable ohne Heap nach einem __Copy__ weiterhin verfügbar ist.\n",
    "* (c) Zeigen Sie, dass die Quell-Variable mit Heap nach einem __Clone__ weiterhin verfügbar ist.\n",
    "* (d) Zeigen Sie, dass nach einem Move einer immutable Quell-Variable mit Heap die Ziel-Variable auch mutable sein kann."
   ]
  },
  {
   "cell_type": "code",
   "execution_count": 23,
   "id": "c921caf1-f036-402f-8b4a-975efb87c833",
   "metadata": {},
   "outputs": [],
   "source": [
    "// (a) Liftetime bei Move (mit Heap)\n",
    "let a = String::from(\"Masih\");\n",
    "let a_moved = a;\n",
    "// Following line produces following error: [E0382] Error: borrow of moved value: `a`\n",
    "// assert!(a == \"Masih\");"
   ]
  },
  {
   "cell_type": "code",
   "execution_count": 24,
   "id": "f0128ca5-260e-4d90-91ad-cd837ca3cbd8",
   "metadata": {},
   "outputs": [],
   "source": [
    "// (b) Liftetime bei Copy (ohne Heap)\n",
    "let b = 127;\n",
    "let b_copied = b;\n",
    "assert!(b == 127);\n",
    "assert!(b_copied == 127);"
   ]
  },
  {
   "cell_type": "code",
   "execution_count": 25,
   "id": "8ec75aa5-b0ce-4da9-bb1a-11f603dd72b6",
   "metadata": {},
   "outputs": [],
   "source": [
    "// (c) Liftetime bei Clone (mit Heap)\n",
    "let c = String::from(\"Masih\");\n",
    "let c_cloned = c.clone();\n",
    "assert!(c == \"Masih\");\n",
    "assert!(c_cloned == \"Masih\");"
   ]
  },
  {
   "cell_type": "code",
   "execution_count": 38,
   "id": "dc67a869-31a1-4858-967e-5d36b6c05a08",
   "metadata": {},
   "outputs": [],
   "source": [
    "// (d) Liftetime bei Move (mit Heap) und neuer Ownership mit Mutabilität\n",
    "let d = String::from(\"Masih\");\n",
    "let mut d_moved = d;\n",
    "d_moved.push_str(\"T\");\n",
    "assert!(d_moved == \"MasihT\");"
   ]
  }
 ],
 "metadata": {
  "kernelspec": {
   "display_name": "Rust",
   "language": "rust",
   "name": "rust"
  },
  "language_info": {
   "codemirror_mode": "rust",
   "file_extension": ".rs",
   "mimetype": "text/rust",
   "name": "Rust",
   "pygment_lexer": "rust",
   "version": ""
  }
 },
 "nbformat": 4,
 "nbformat_minor": 5
}
