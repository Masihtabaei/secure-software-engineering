{
 "cells": [
  {
   "attachments": {},
   "cell_type": "markdown",
   "id": "bd3fa1e0-a368-47fa-b84f-a9bf2f1d9103",
   "metadata": {},
   "source": [
    "# Aufgabe: Ownership -- Mutable Reference\n",
    "\n",
    "Hier sind die Ownership Regeln für __mutable__ Referenzen für einzelne Speicher-relevante Operationen aufgeführt.\n",
    "\n",
    "__Source__:\n",
    "* 1) Source must be mutable\n",
    "* 2) Read source forbidden\n",
    "* 3) Write source forbidden\n",
    "* 4) Move source forbidden\n",
    "* 5) Immutable `&` of source forbidden\n",
    "* 6) Further `&mut` of source forbidden\n",
    "\n",
    "__HINWEIS__: Source ist quasi __nicht__ zugäglich\n",
    "\n",
    "__Mutable Reference__:\n",
    "* 7) Read of `&mut` permitted\n",
    "* 8) Copy of `&mut` permitted\n",
    "* 9) Write of `&mut` permitted\n",
    "* 10) Degradation of `&mut` to `&` permitted\n",
    "* 11) Further `&` of reference permitted\n",
    "* 12) A single `&mut` of this reference permitted\n",
    "\n",
    "__HINWEISE__:\n",
    "* Mutable Referenz ist quasi __vollständig__ zugänglich. Es sei denn, es wird durch weitere Referenzen ausgeliehen.\n",
    "* zu 9): `&mut` erlaubt kein _move_, da es keinen Owner besizt.\n",
    "* zu 11): Degradieren degradieren von `&mut` auf `&` ginge z.B. mit: `let ref_s1 = &*refmut_s1;`\n",
    " \n",
    "Prüfen Sie diese Regeln jeweils gezielt einzeln ab, indem Sie entsprechende Operationen durchführen:\n",
    "* so dass bei zulässigen Operationen kein Fehler hervorgerufen wird, und\n",
    "* so dass bei unzulässigen Operationen ein (passender) Fehler hervorgerufen wird"
   ]
  },
  {
   "cell_type": "code",
   "execution_count": null,
   "id": "c921caf1-f036-402f-8b4a-975efb87c833",
   "metadata": {},
   "outputs": [],
   "source": [
    "// 1. Source must be mutable\n"
   ]
  },
  {
   "cell_type": "code",
   "execution_count": null,
   "id": "e5adf8e4-1303-4540-9467-42dafee13936",
   "metadata": {},
   "outputs": [],
   "source": [
    "// 2. Read source forbidden\n"
   ]
  },
  {
   "cell_type": "code",
   "execution_count": null,
   "id": "4f389c0b-b33e-4bd9-9596-657a10de3523",
   "metadata": {},
   "outputs": [],
   "source": [
    "// 3. Write source forbidden\n"
   ]
  },
  {
   "cell_type": "code",
   "execution_count": null,
   "id": "ade63938-bfd8-47a5-876d-adfe3dc6971e",
   "metadata": {},
   "outputs": [],
   "source": [
    "// 4. Move source forbidden\n"
   ]
  },
  {
   "cell_type": "code",
   "execution_count": null,
   "id": "68e16eed-1389-4156-95ab-9a1f050276af",
   "metadata": {},
   "outputs": [],
   "source": [
    "// 5. Immutable & of source forbidden\n"
   ]
  },
  {
   "cell_type": "code",
   "execution_count": null,
   "id": "9fa81361-fcfd-4800-9224-537e24d56611",
   "metadata": {},
   "outputs": [],
   "source": [
    "// 6. Further &mut of source forbidden\n"
   ]
  },
  {
   "cell_type": "code",
   "execution_count": null,
   "id": "b91ac49c-518a-42b7-b641-750654f6d49d",
   "metadata": {},
   "outputs": [],
   "source": [
    "// 7. Read of &mut permitted\n"
   ]
  },
  {
   "cell_type": "code",
   "execution_count": null,
   "id": "7b26d367-ba35-4083-91eb-6439c64efe55",
   "metadata": {},
   "outputs": [],
   "source": [
    "// 8.Copy, Clone of &mut permitted\n"
   ]
  },
  {
   "cell_type": "code",
   "execution_count": null,
   "id": "057c9224-591e-4bfd-acdd-ef2f59747f84",
   "metadata": {},
   "outputs": [],
   "source": [
    "// 9. Write of &mut permitted\n"
   ]
  },
  {
   "cell_type": "code",
   "execution_count": null,
   "id": "cb8c68c4-d5da-4698-a96f-eaae88cd688a",
   "metadata": {},
   "outputs": [],
   "source": [
    "// 10. Degradation of &mut to & permitted\n"
   ]
  },
  {
   "cell_type": "code",
   "execution_count": null,
   "id": "f5df19d6-b6f3-4b1e-aac2-c9e2a94e096e",
   "metadata": {},
   "outputs": [],
   "source": [
    "// 11. Further & of reference permitted\n"
   ]
  },
  {
   "cell_type": "code",
   "execution_count": null,
   "id": "fbeff622-7443-4672-8b45-0a1b3c564d7a",
   "metadata": {},
   "outputs": [],
   "source": [
    "// 12. A single &mut of this reference permitted\n"
   ]
  },
  {
   "cell_type": "code",
   "execution_count": null,
   "id": "8d4d5d03-2e81-431d-9660-39e19ea6a11a",
   "metadata": {},
   "outputs": [],
   "source": []
  }
 ],
 "metadata": {
  "kernelspec": {
   "display_name": "Rust",
   "language": "rust",
   "name": "rust"
  },
  "language_info": {
   "codemirror_mode": "rust",
   "file_extension": ".rs",
   "mimetype": "text/rust",
   "name": "Rust",
   "pygment_lexer": "rust",
   "version": ""
  }
 },
 "nbformat": 4,
 "nbformat_minor": 5
}
