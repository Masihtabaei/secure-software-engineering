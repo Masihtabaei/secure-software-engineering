{
 "cells": [
  {
   "cell_type": "markdown",
   "id": "d340d38a-6663-4e0f-82c9-05e8927dd796",
   "metadata": {},
   "source": [
    "# Aufgabe: Pattern Matching\n",
    "\n",
    "## Match Enumeration mit Match Guard und @-Binding\n",
    "\n",
    "Gegeben ist folgende Enumeration:\n",
    "```\n",
    "enum Message {\n",
    "  Move { x: i32, y: i32 },\n",
    "  Write(String),\n",
    "  ChangeColor(i32, i32, i32),\n",
    "  Quit,\n",
    "}\n",
    "```\n",
    "\n",
    "(a) Schreiben Sie eine Funktion `describe_message(msg: Message) -> String`, die folgende Anforderungen erfüllt:\n",
    "1) Gib den String \"Movement in positive x direction\" aus, wenn `x > 0` ist (mit einem _Match Guard_).\n",
    "2) Gib \"Changing to grayscale\" aus, wenn `r == g == b` gilt.\n",
    "3) Gib \"Got a message: \\<text\\>\" aus, wenn es sich um `Write(text)` handelt – nutze dazu `text @` um den Eingabe-Text zu verwenden anstatt \\<text\\>.\n",
    "4) Gib \"Quit\" aus, wenn die Nachricht Quit ist.\n",
    "5) Anderfalls geben Sie \"Message does not match\" aus.\n",
    "6) der erzeugte Text der Funktion wird als String zurückgegeben.\n",
    "\n",
    "Führen Sie die Funktion für die jeweiligen Aufrufe zu 1. bis 5. (mit passenden Eingaben) durch und lassen Sie den jeweils erhaltenen String mit `println!` anzeigen.\n",
    "__Hinweis__ (zu 3): Ggf. benöigen Sie das Makro `format!()`."
   ]
  },
  {
   "cell_type": "code",
   "execution_count": 108,
   "id": "73cddd9f-edd6-4ff2-bef5-cf6d8467458d",
   "metadata": {},
   "outputs": [],
   "source": [
    "enum Message {\n",
    "  Move { x: i32, y: i32 },\n",
    "  Write(String),\n",
    "  ChangeColor(i32, i32, i32),\n",
    "  Quit,\n",
    "}"
   ]
  },
  {
   "cell_type": "code",
   "execution_count": 109,
   "id": "438a92b5-a7f8-4e31-8108-918cb68e2ca5",
   "metadata": {},
   "outputs": [],
   "source": [
    "// (a1) first approach\n",
    "fn describe_message(msg: Message) -> String {\n",
    "  match msg {\n",
    "      Message::Move{x, y} if x > 0 => println!(\"Movement in positive x direction\"),\n",
    "      _ => println!(\"\")\n",
    "  };\n",
    "\n",
    "    String::from(\"\")\n",
    "}"
   ]
  },
  {
   "cell_type": "code",
   "execution_count": 110,
   "id": "f7d68d4e-317c-4fb0-8b9c-9475715f1ac7",
   "metadata": {},
   "outputs": [
    {
     "name": "stdout",
     "output_type": "stream",
     "text": [
      "Movement in positive x direction\n"
     ]
    }
   ],
   "source": [
    "// (a1) valid case\n",
    "let test_enum : Message = Message::Move{x: 5, y: 6};\n",
    "let result = describe_message(test_enum);"
   ]
  },
  {
   "cell_type": "code",
   "execution_count": 111,
   "id": "430c3827-f8eb-4d89-b368-cb2bac550740",
   "metadata": {},
   "outputs": [
    {
     "name": "stdout",
     "output_type": "stream",
     "text": [
      "\n"
     ]
    }
   ],
   "source": [
    "// (a1) invalid case\n",
    "let test_enum : Message = Message::Move{x: -4, y: 6};\n",
    "let result = describe_message(test_enum);"
   ]
  },
  {
   "cell_type": "code",
   "execution_count": 112,
   "id": "3ef6e109-8f25-4961-9b54-5e1bc4facb0f",
   "metadata": {},
   "outputs": [],
   "source": [
    "// (a1) second approach\n",
    "fn describe_message(msg: Message) -> String {\n",
    "  let result = match msg {\n",
    "      Message::Move{x, y} if x > 0 => String::from(\"Movement in positive x direction\"),\n",
    "      _ => String::from(\"\")\n",
    "  };\n",
    "\n",
    "    result\n",
    "}"
   ]
  },
  {
   "cell_type": "code",
   "execution_count": 113,
   "id": "2aa4e56b-f8c2-4c89-9453-5de263157d08",
   "metadata": {},
   "outputs": [
    {
     "name": "stdout",
     "output_type": "stream",
     "text": [
      "Movement in positive x direction\n"
     ]
    }
   ],
   "source": [
    "// (a1) valid case\n",
    "let test_enum : Message = Message::Move{x: 5, y: 6};\n",
    "let result = describe_message(test_enum);\n",
    "println!(\"{result}\");"
   ]
  },
  {
   "cell_type": "code",
   "execution_count": 114,
   "id": "e35f6a81-5da1-4260-b20f-ff3988c86b3a",
   "metadata": {},
   "outputs": [
    {
     "name": "stdout",
     "output_type": "stream",
     "text": [
      "\n"
     ]
    }
   ],
   "source": [
    "// (a1) invalid case\n",
    "let test_enum : Message = Message::Move{x: -4, y: 6};\n",
    "let result = describe_message(test_enum);\n",
    "println!(\"{result}\");"
   ]
  },
  {
   "cell_type": "code",
   "execution_count": 115,
   "id": "e21b200d-6506-4113-8dbc-b34689bda60d",
   "metadata": {},
   "outputs": [],
   "source": [
    "// (a2) first approach\n",
    "fn describe_message(msg: Message) -> String {\n",
    "  match msg {\n",
    "      Message::Move{x, y} if x > 0 => println!(\"Movement in positive x direction\"),\n",
    "      Message::ChangeColor(r, g, b) if (r == g) && (g == b) => println!(\"Changing to grayscale\"),\n",
    "      _ => println!(\"\")\n",
    "  };\n",
    "\n",
    "    String::from(\"\")\n",
    "}"
   ]
  },
  {
   "cell_type": "code",
   "execution_count": 116,
   "id": "0772b15a-77bc-4801-9c58-d2284459e3d4",
   "metadata": {},
   "outputs": [
    {
     "name": "stdout",
     "output_type": "stream",
     "text": [
      "Changing to grayscale\n",
      "\n"
     ]
    }
   ],
   "source": [
    "// (a2) valid case\n",
    "let test_enum : Message = Message::ChangeColor(5, 5, 5);\n",
    "let result = describe_message(test_enum);\n",
    "println!(\"{result}\");"
   ]
  },
  {
   "cell_type": "code",
   "execution_count": 117,
   "id": "d9a7c8a4-b86b-43df-9253-28182d43a651",
   "metadata": {},
   "outputs": [
    {
     "name": "stdout",
     "output_type": "stream",
     "text": [
      "\n",
      "\n"
     ]
    }
   ],
   "source": [
    "// (a2) invalid case\n",
    "let test_enum : Message = Message::ChangeColor(5, 6, 5);\n",
    "let result = describe_message(test_enum);\n",
    "println!(\"{result}\");"
   ]
  },
  {
   "cell_type": "code",
   "execution_count": 118,
   "id": "5a2e18cf-1f63-48ed-a2f0-6549c34d14a4",
   "metadata": {},
   "outputs": [],
   "source": [
    "// (a2) second approach\n",
    "fn describe_message(msg: Message) -> String {\n",
    "  let result = match msg {\n",
    "      Message::Move{x, y} if x > 0 => String::from(\"Movement in positive x direction\"),\n",
    "      Message::ChangeColor(r, g, b) if (r == g) && (g == b) => String::from(\"Changing to grayscale\"),\n",
    "      _ => String::from(\"\")\n",
    "  };\n",
    "\n",
    "    result\n",
    "}"
   ]
  },
  {
   "cell_type": "code",
   "execution_count": 119,
   "id": "01985892-e78c-45c0-9765-4eec050adfce",
   "metadata": {},
   "outputs": [
    {
     "name": "stdout",
     "output_type": "stream",
     "text": [
      "Changing to grayscale\n"
     ]
    }
   ],
   "source": [
    "// (a2) valid case\n",
    "let test_enum : Message = Message::ChangeColor(5, 5, 5);\n",
    "let result = describe_message(test_enum);\n",
    "println!(\"{}\", result);"
   ]
  },
  {
   "cell_type": "code",
   "execution_count": 120,
   "id": "a7df6355-d113-48cc-8e11-2e6f4f63d00e",
   "metadata": {},
   "outputs": [
    {
     "name": "stdout",
     "output_type": "stream",
     "text": [
      "\n"
     ]
    }
   ],
   "source": [
    "// (a2) invalid case\n",
    "let test_enum : Message = Message::ChangeColor(5, 6, 5);\n",
    "let result = describe_message(test_enum);\n",
    "println!(\"{}\", result);"
   ]
  },
  {
   "cell_type": "code",
   "execution_count": 121,
   "id": "13b1e28d-92d6-468d-b7b3-0b5676ead41a",
   "metadata": {},
   "outputs": [],
   "source": [
    "// (a3) first approach\n",
    "fn describe_message(msg: Message) -> String {\n",
    "  match msg {\n",
    "      Message::Move{x, y} if x > 0 => println!(\"Movement in positive x direction\"),\n",
    "      Message::ChangeColor(r, g, b) if (r == g) && (g == b) => println!(\"Changing to grayscale\"),\n",
    "      Message::Write(text) => println!(\"Got a message: {}\", text), \n",
    "      _ => println!(\"\")\n",
    "  };\n",
    "\n",
    "    String::from(\"\")\n",
    "}"
   ]
  },
  {
   "cell_type": "code",
   "execution_count": 122,
   "id": "4637c008-9259-4fa2-84a2-1dbf753a4661",
   "metadata": {},
   "outputs": [
    {
     "name": "stdout",
     "output_type": "stream",
     "text": [
      "Got a message: Masih\n"
     ]
    }
   ],
   "source": [
    "// (a3) valid case\n",
    "let test_enum : Message = Message::Write(String::from(\"Masih\"));\n",
    "let result = describe_message(test_enum);"
   ]
  },
  {
   "cell_type": "code",
   "execution_count": 123,
   "id": "77b23b5a-4a39-4acf-85a6-dbccb0994bad",
   "metadata": {},
   "outputs": [],
   "source": [
    "// (a3) second approach\n",
    "fn describe_message(msg: Message) -> String {\n",
    "  let result = match msg {\n",
    "      Message::Move{x, y} if x > 0 => String::from(\"Movement in positive x direction\"),\n",
    "      Message::ChangeColor(r, g, b) if (r == g) && (g == b) => String::from(\"Changing to grayscale\"),\n",
    "      Message::Write(text) => format!(\"Got a message: {}\", text), \n",
    "      _ => String::from(\"\")\n",
    "  };\n",
    "\n",
    "    result\n",
    "}"
   ]
  },
  {
   "cell_type": "code",
   "execution_count": 124,
   "id": "5a914149-f000-4157-9b42-78345f41a231",
   "metadata": {},
   "outputs": [
    {
     "name": "stdout",
     "output_type": "stream",
     "text": [
      "Got a message: Masih\n"
     ]
    }
   ],
   "source": [
    "// (a3) valid case\n",
    "let test_enum : Message = Message::Write(String::from(\"Masih\"));\n",
    "let result = describe_message(test_enum);\n",
    "println!(\"{result}\");"
   ]
  },
  {
   "cell_type": "code",
   "execution_count": 125,
   "id": "eedf8cad-4dd6-4d39-bb76-f5debffc3aed",
   "metadata": {},
   "outputs": [],
   "source": [
    "// (a4) first approach\n",
    "fn describe_message(msg: Message) -> String {\n",
    "  match msg {\n",
    "      Message::Move{x, y} if x > 0 => println!(\"Movement in positive x direction\"),\n",
    "      Message::ChangeColor(r, g, b) if (r == g) && (g == b) => println!(\"Changing to grayscale\"),\n",
    "      Message::Write(text) => println!(\"Got a message: {}\", text),\n",
    "      Message::Quit => println!(\"Quit\"),\n",
    "      _ => println!(\"\")\n",
    "  };\n",
    "\n",
    "    String::from(\"\")\n",
    "}"
   ]
  },
  {
   "cell_type": "code",
   "execution_count": 126,
   "id": "e0893651-02e0-48d8-929f-fd150e6bbc5f",
   "metadata": {},
   "outputs": [
    {
     "name": "stdout",
     "output_type": "stream",
     "text": [
      "Quit\n"
     ]
    }
   ],
   "source": [
    "// (a4) valid case\n",
    "let test_enum : Message = Message::Quit;\n",
    "let result = describe_message(test_enum);"
   ]
  },
  {
   "cell_type": "code",
   "execution_count": 127,
   "id": "2f466584-7ec0-4579-908b-2daf9fa3824c",
   "metadata": {},
   "outputs": [],
   "source": [
    "// (a4) second approach\n",
    "fn describe_message(msg: Message) -> String {\n",
    "  let result = match msg {\n",
    "      Message::Move{x, y} if x > 0 => String::from(\"Movement in positive x direction\"),\n",
    "      Message::ChangeColor(r, g, b) if (r == g) && (g == b) => String::from(\"Changing to grayscale\"),\n",
    "      Message::Write(text) => format!(\"Got a message: {}\", text),\n",
    "      Message::Quit => String::from(\"Quit\"),\n",
    "      _ => String::from(\"\")\n",
    "  };\n",
    "\n",
    "    result\n",
    "}"
   ]
  },
  {
   "cell_type": "code",
   "execution_count": 128,
   "id": "d0afb1f8-b2a0-4cd6-97ce-6d524e7b1e2b",
   "metadata": {},
   "outputs": [
    {
     "name": "stdout",
     "output_type": "stream",
     "text": [
      "Quit\n"
     ]
    }
   ],
   "source": [
    "// (a4) valid case\n",
    "let test_enum : Message = Message::Quit;\n",
    "let result = describe_message(test_enum);\n",
    "println!(\"{result}\");"
   ]
  },
  {
   "cell_type": "code",
   "execution_count": 129,
   "id": "638857d3-d461-438d-ab7d-735484137125",
   "metadata": {},
   "outputs": [],
   "source": [
    "// (a5) first approach\n",
    "fn describe_message(msg: Message) -> String {\n",
    "  let result = match msg {\n",
    "      Message::Move{x, y} if x > 0 => println!(\"Movement in positive x direction\"),\n",
    "      Message::ChangeColor(r, g, b) if (r == g) && (g == b) => println!(\"Changing to grayscale\"),\n",
    "      Message::Write(text) => println!(\"Got a message: {}\", text),\n",
    "      Message::Quit => println!(\"Quit\"),\n",
    "      _ => println!(\"Message does not match\")\n",
    "  };\n",
    "\n",
    "    String::from(\"\")\n",
    "}"
   ]
  },
  {
   "cell_type": "code",
   "execution_count": 130,
   "id": "7d075535-1258-4043-8861-04fef50637bf",
   "metadata": {},
   "outputs": [
    {
     "name": "stdout",
     "output_type": "stream",
     "text": [
      "Message does not match\n"
     ]
    }
   ],
   "source": [
    "// (a5) valid case\n",
    "let test_enum : Message = Message::Move{x : -4, y : 6};\n",
    "let result = describe_message(test_enum);"
   ]
  },
  {
   "cell_type": "code",
   "execution_count": 131,
   "id": "09018240-c0d6-4731-85e0-3208fd4c84b7",
   "metadata": {},
   "outputs": [],
   "source": [
    "// (a5) second approach\n",
    "fn describe_message(msg: Message) -> String {\n",
    "  let result = match msg {\n",
    "      Message::Move{x, y} if x > 0 => String::from(\"Movement in positive x direction\"),\n",
    "      Message::ChangeColor(r, g, b) if (r == g) && (g == b) => String::from(\"Changing to grayscale\"),\n",
    "      Message::Write(text) => format!(\"Got a message: {}\", text),\n",
    "      Message::Quit => String::from(\"Quit\"),\n",
    "      _ => String::from(\"Message does not match\")\n",
    "  };\n",
    "\n",
    "    result\n",
    "}"
   ]
  },
  {
   "cell_type": "code",
   "execution_count": 132,
   "id": "9ca5e0d0-b520-4d3a-af7d-3e8d893765fd",
   "metadata": {},
   "outputs": [
    {
     "name": "stdout",
     "output_type": "stream",
     "text": [
      "Message does not match\n"
     ]
    }
   ],
   "source": [
    "// (a5) valid case\n",
    "let test_enum : Message = Message::Move{x : -4, y : 6};\n",
    "let result = describe_message(test_enum);\n",
    "println!(\"{result}\");"
   ]
  },
  {
   "cell_type": "code",
   "execution_count": 133,
   "id": "f3b8b632-2e23-4e6f-8c65-19eb03d59095",
   "metadata": {},
   "outputs": [],
   "source": [
    "// (a6)\n",
    "fn describe_message(msg: Message) -> String {\n",
    "  let result = match msg {\n",
    "      Message::Move{x, y} if x > 0 => String::from(\"Movement in positive x direction\"),\n",
    "      Message::ChangeColor(r, g, b) if (r == g) && (g == b) => String::from(\"Changing to grayscale\"),\n",
    "      Message::Write(text) => format!(\"Got a message: {}\", text),\n",
    "      Message::Quit => String::from(\"Quit\"),\n",
    "      _ => String::from(\"Message does not match\")\n",
    "  };\n",
    "\n",
    "    result\n",
    "}"
   ]
  },
  {
   "cell_type": "markdown",
   "id": "213b8173-efcd-462a-99cc-09daef076817",
   "metadata": {},
   "source": [
    "## `ref` und `ref mut` in Patterns\n",
    "\n",
    "Gegeben ist folgender Code:\n",
    "```\n",
    "struct Document {\n",
    "  title: String,\n",
    "  content: String,\n",
    "  author: String,\n",
    "  pages: u32,\n",
    "}\n",
    "```\n",
    "\n",
    "(b) `ref`: Schreibe eine Funktion `describe_document_b(doc: &document)`, die `Document` als Referenz übergibt und mit `ref` auf Felder zugreift, um die Inhalte von \"title: ...\" und \"content: ...\" direkt mit `println!` auszugeben, übrige Felder der Struktur sollen ignoriert werden.\n",
    "\n",
    "(c) `ref mut`: Schreibe eine Funktion `describe_document_c(doc: &mut Document) -> &mut Document`, die `Document` als mutable Referenz übernimmt und nur `content` mit `ref mut` verändert (z. B. Inhalt auf \"dummy text\" setzt), und dann das veränderte `Document` zurückgibt.\n",
    "\n",
    "Führen Sie die Funktionen für die jeweiligen Aufrufe zu (a) und (b) (mit den gegebenen passenden Eingaben) durch. Die erwartete Ausgabe ist im Kommentar angegeben."
   ]
  },
  {
   "cell_type": "code",
   "execution_count": 134,
   "id": "1d523b7c-5723-4659-8ce2-0fb328c924c6",
   "metadata": {},
   "outputs": [],
   "source": [
    "struct Document {\n",
    "  title: String,\n",
    "  content: String,\n",
    "  author: String,\n",
    "  pages: u32,\n",
    "}"
   ]
  },
  {
   "cell_type": "code",
   "execution_count": 135,
   "id": "0c323763-63af-4239-9c06-b7acab820bbc",
   "metadata": {},
   "outputs": [
    {
     "name": "stdout",
     "output_type": "stream",
     "text": [
      "title: B\n",
      "content: a lot of text\n"
     ]
    }
   ],
   "source": [
    "// (b)\n",
    "fn describe_document_b(doc: &Document) {\n",
    "  match doc {\n",
    "      ref doc => println!(\"title: {}\\ncontent: {}\", doc.title, doc.content),\n",
    "      _ => ()\n",
    "  }\n",
    "}\n",
    "\n",
    "let my_doc_b: Document = Document {\n",
    "  title: String::from(\"B\"),\n",
    "  content: String::from(\"a lot of text\"),\n",
    "  author: String::from(\"me\"),\n",
    "  pages: 100,\n",
    "};\n",
    "\n",
    "describe_document_b(&my_doc_b);\n",
    "/* Erwartete Ausgabe:\n",
    "title: B\n",
    "content: a lot of text\n",
    "*/"
   ]
  },
  {
   "cell_type": "code",
   "execution_count": 136,
   "id": "0a70352d-bf44-4d73-b579-3b7459f81abc",
   "metadata": {},
   "outputs": [
    {
     "name": "stdout",
     "output_type": "stream",
     "text": [
      "title: C\n",
      "content: dummy text\n"
     ]
    }
   ],
   "source": [
    "let mut my_doc_c: Document = Document {\n",
    "  title: String::from(\"C\"),\n",
    "  content: String::from(\"a lot of text\"),\n",
    "  author: String::from(\"me again\"),\n",
    "  pages: 9999,\n",
    "};\n",
    "\n",
    "// (c)\n",
    "fn describe_document_c(doc: &mut Document) -> &mut Document {\n",
    "  match *doc {\n",
    "      ref mut doc => {\n",
    "          (*doc).content = String::from(\"dummy text\");\n",
    "      },\n",
    "      _ => ()\n",
    "  }\n",
    "    doc\n",
    "}\n",
    "\n",
    "describe_document_c(&mut my_doc_c); // change\n",
    "describe_document_b(&my_doc_c); // display\n",
    "\n",
    "/* Erwartete Ausgabe:\n",
    "title: C\n",
    "content: dummy text\n",
    "*/"
   ]
  }
 ],
 "metadata": {
  "kernelspec": {
   "display_name": "Rust",
   "language": "rust",
   "name": "rust"
  },
  "language_info": {
   "codemirror_mode": "rust",
   "file_extension": ".rs",
   "mimetype": "text/rust",
   "name": "Rust",
   "pygment_lexer": "rust",
   "version": ""
  }
 },
 "nbformat": 4,
 "nbformat_minor": 5
}
