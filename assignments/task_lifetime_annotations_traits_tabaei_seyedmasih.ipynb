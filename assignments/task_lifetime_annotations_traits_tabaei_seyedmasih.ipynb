{
 "cells": [
  {
   "cell_type": "markdown",
   "id": "548dff16-07b9-40ae-8f79-6a3bb0e96ae8",
   "metadata": {},
   "source": [
    "# Aufgabe: Lifetime Annotations in Traits mit generischem Typ\n",
    "\n",
    "Betrachten Sie erneut das Beispiel _Traits containing References_  aus der Vorlesung.\n",
    "\n",
    "Das in dem Beispiel gezeigte Trait ist bisher noch speziell auf den Typ `u8` eingeschränkt.\n",
    "* Modifizieren Sie die bisherige Implementierung des Beispiels so, dass alle Typen, die das `Ord`-Trait erfüllen in der Funktion `eval_max(x)` genutzt werden können\n",
    "* und verwenden Sie `eval_max()` beispielhat für die Typen `u8` und `i8` (diese und weitere Integer erfüllen das `Ord`-Trait).\n",
    "\n",
    "Anzupassen sind:\n",
    "* das Trait\n",
    "* das Struct\n",
    "* die Implementierung des Traits für das Struct,\n",
    "* die `eval_max()`-Funktion,\n",
    "* und die `main()`-Funktion\n",
    "\n",
    "__Hinweis__:\n",
    "* Es sind keine Importe nötig.\n",
    "* Sie werden die Trait Bound `Ord` (für den Vergleichsoperator `>`) benötigen."
   ]
  },
  {
   "cell_type": "markdown",
   "id": "a908d56a-84f0-4972-bcfc-88f98cbe90cf",
   "metadata": {},
   "source": [
    "Schreiben Sie in das folgende Feld ihre Lösung hinein:"
   ]
  },
  {
   "cell_type": "code",
   "execution_count": 6,
   "id": "50f9557c-ea48-4ac3-9122-72e2aa12bd0f",
   "metadata": {},
   "outputs": [],
   "source": [
    "trait HasMax<'l, T: Ord> {\n",
    "    fn max(self) -> &'l T;\n",
    "}\n",
    "    \n",
    "struct MyStruct<'l, T> {\n",
    "  x: &'l T,\n",
    "  y: &'l T,\n",
    "}\n",
    "\n",
    "impl<'l, T: Ord> HasMax<'l, T> for MyStruct<'l, T>\n",
    "{\n",
    "  fn max(self) -> &'l T {\n",
    "    if *self.x > *self.y { self.x }\n",
    "    else { self.y }\n",
    "  }\n",
    "}\n",
    "\n",
    "fn eval_max<'l, S, T : Ord>(x: S) -> &'l T\n",
    "where S: HasMax<'l, T>\n",
    "{\n",
    "  HasMax::max(x)\n",
    "}\n",
    "\n",
    "fn main() {\n",
    "  let mut val1: u8 = 14;\n",
    "  let val2: u8 = 15;\n",
    "  let my_s: MyStruct<'_, u8> = MyStruct\n",
    "      {x: &val1,\n",
    "       y: &val2};\n",
    "  let r = eval_max(my_s);\n",
    "  //val1 += 44; // error, write\n",
    "  //val2 += 22; // error, write\n",
    "  assert!(*r == 15); // LT of r ends\n",
    "  val1 = val1 + 1;   // now valid\n",
    "  assert!(val1 == val2);\n",
    "    \n",
    "  // TODO ergänze Verwendung von i8\n",
    "  let mut val3: i8 = 10;\n",
    "  let val4: i8 = 11;\n",
    "  let my_s_2: MyStruct<'_, i8> = MyStruct\n",
    "      {x: &val3,\n",
    "       y: &val4};\n",
    "  let r2 = eval_max(my_s_2);\n",
    "  //val1 += 44; // error, write\n",
    "  //val2 += 22; // error, write\n",
    "  assert!(*r2 == 11); // LT of r ends\n",
    "  val3 = val3 + 1;   // now valid\n",
    "  assert!(val3 == val4);\n",
    "}"
   ]
  },
  {
   "cell_type": "code",
   "execution_count": 7,
   "id": "63cfa6cf-81e1-4992-b91b-725443ae2ff9",
   "metadata": {},
   "outputs": [
    {
     "data": {
      "text/plain": [
       "()"
      ]
     },
     "execution_count": 7,
     "metadata": {},
     "output_type": "execute_result"
    }
   ],
   "source": [
    "main()"
   ]
  }
 ],
 "metadata": {
  "kernelspec": {
   "display_name": "Rust",
   "language": "rust",
   "name": "rust"
  },
  "language_info": {
   "codemirror_mode": "rust",
   "file_extension": ".rs",
   "mimetype": "text/rust",
   "name": "Rust",
   "pygment_lexer": "rust",
   "version": ""
  }
 },
 "nbformat": 4,
 "nbformat_minor": 5
}
