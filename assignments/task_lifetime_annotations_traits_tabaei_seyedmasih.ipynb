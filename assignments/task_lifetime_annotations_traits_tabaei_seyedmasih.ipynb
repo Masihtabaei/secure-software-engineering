{
 "cells": [
  {
   "cell_type": "markdown",
   "id": "548dff16-07b9-40ae-8f79-6a3bb0e96ae8",
   "metadata": {},
   "source": [
    "# Aufgabe: Lifetime Annotations in Traits mit generischem Typ\n",
    "\n",
    "Betrachten Sie erneut das Beispiel _Traits containing References_  aus der Vorlesung.\n",
    "\n",
    "Das in dem Beispiel gezeigte Trait ist bisher noch speziell auf den Typ `u8` eingeschränkt.\n",
    "* Modifizieren Sie die bisherige Implementierung des Beispiels so, dass alle Typen, die das `Ord`-Trait erfüllen in der Funktion `eval_max(x)` genutzt werden können\n",
    "* und verwenden Sie `eval_max()` beispielhat für die Typen `u8` und `i8` (diese und weitere Integer erfüllen das `Ord`-Trait).\n",
    "\n",
    "Anzupassen sind:\n",
    "* das Trait\n",
    "* das Struct\n",
    "* die Implementierung des Traits für das Struct,\n",
    "* die `eval_max()`-Funktion,\n",
    "* und die `main()`-Funktion\n",
    "\n",
    "__Hinweis__:\n",
    "* Es sind keine Importe nötig.\n",
    "* Sie werden die Trait Bound `Ord` (für den Vergleichsoperator `>`) benötigen."
   ]
  },
  {
   "cell_type": "code",
   "execution_count": 3,
   "id": "f49946a1-16d9-4bba-b758-b0fe770b600f",
   "metadata": {},
   "outputs": [],
   "source": [
    "// anzupassende Implementierung aus der Vorlesung\n",
    "\n",
    "trait HasMax<'l> {\n",
    "    fn max(self) -> &'l u8;\n",
    "}\n",
    "\n",
    "struct MyStruct<'l> {\n",
    "  x: &'l u8,\n",
    "  y: &'l u8,\n",
    "}\n",
    "\n",
    "impl<'l> HasMax<'l> for MyStruct<'l>\n",
    "{\n",
    "  fn max(self) -> &'l u8 {\n",
    "    if *self.x > *self.y { self.x }\n",
    "    else { self.y }\n",
    "  }\n",
    "}\n",
    "\n",
    "fn eval_max<'l, S>(x: S) -> &'l u8\n",
    "where S: HasMax<'l>\n",
    "{\n",
    "  x.max()\n",
    "}\n",
    "\n",
    "fn main() {\n",
    "  let mut val1: u8 = 14;\n",
    "  let val2: u8 = 15;\n",
    "  let my_s: MyStruct<'_> = MyStruct\n",
    "      {x: &val1,\n",
    "       y: &val2};\n",
    "  let r = eval_max(my_s);\n",
    "  //val1 += 44; // error, write\n",
    "  //val2 += 22; // error, write\n",
    "  assert!(*r == 15); // LT of r ends\n",
    "  val1 = val1 + 1;   // now valid\n",
    "  assert!(val1 == val2);\n",
    "\n",
    "  // TODO ergänze Verwendung von i8\n",
    "}\n",
    "\n",
    "main();"
   ]
  },
  {
   "cell_type": "markdown",
   "id": "a908d56a-84f0-4972-bcfc-88f98cbe90cf",
   "metadata": {},
   "source": [
    "Schreiben Sie in das folgende Feld ihre Lösung hinein:"
   ]
  },
  {
   "cell_type": "code",
   "execution_count": 3,
   "id": "5d7ad503-19a6-4006-bb9e-06ce103ea326",
   "metadata": {},
   "outputs": [],
   "source": []
  },
  {
   "cell_type": "code",
   "execution_count": null,
   "id": "f65440bf-8376-491e-abe7-aa4b21d93f9c",
   "metadata": {},
   "outputs": [],
   "source": []
  }
 ],
 "metadata": {
  "kernelspec": {
   "display_name": "Rust",
   "language": "rust",
   "name": "rust"
  },
  "language_info": {
   "codemirror_mode": "rust",
   "file_extension": ".rs",
   "mimetype": "text/rust",
   "name": "Rust",
   "pygment_lexer": "rust",
   "version": ""
  }
 },
 "nbformat": 4,
 "nbformat_minor": 5
}
