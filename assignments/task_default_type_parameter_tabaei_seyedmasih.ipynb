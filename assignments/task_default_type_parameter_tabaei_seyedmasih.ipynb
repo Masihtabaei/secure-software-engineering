{
 "cells": [
  {
   "cell_type": "markdown",
   "id": "09fa0c5b-71f1-4a72-9c2c-af7de8358042",
   "metadata": {},
   "source": [
    "# Aufgabe: Default Type Parameter\n",
    "\n",
    "Betrachten Sie zunächst das Beispiel zum _Default Type Parameter_ aus der Vorlesung."
   ]
  },
  {
   "cell_type": "code",
   "execution_count": 2,
   "id": "f7834a59-df1c-4adf-bdae-19fec75fcfc6",
   "metadata": {},
   "outputs": [
    {
     "name": "stdout",
     "output_type": "stream",
     "text": [
      "number: 4\n"
     ]
    }
   ],
   "source": [
    "trait WithDef<T = u32> {\n",
    "  fn describe(&self, value: T);\n",
    "}\n",
    "\n",
    "struct S;\n",
    "\n",
    "impl WithDef for S {\n",
    "  fn describe(&self, value: u32) {\n",
    "    println!(\"number: {}\", value);\n",
    "  }\n",
    "}\n",
    "\n",
    "fn main() {\n",
    "  let myS: S = S {};\n",
    "  myS.describe(4);\n",
    "}\n",
    "\n",
    "main();"
   ]
  },
  {
   "cell_type": "markdown",
   "id": "7fa938d4-d43f-4f93-8601-f638d433ddb6",
   "metadata": {},
   "source": [
    "* (a) Ergänzen Sie nun eine weitere Implementierung für die Spezialisierung des generischen Parameters auf `<i8>`. Verwenden Sie auch die `Type as Trait` Typ-Umwandlung (obgleich dies hier auch durch ein einfaches `as` beim Argument des Aufrufs gelöst werden könnte)."
   ]
  },
  {
   "cell_type": "code",
   "execution_count": null,
   "id": "716cea3f-08bd-436c-9e60-bb6b38dc4e71",
   "metadata": {},
   "outputs": [],
   "source": []
  },
  {
   "cell_type": "code",
   "execution_count": null,
   "id": "9eebb74e-f4d6-4692-8b05-77d5b030711f",
   "metadata": {},
   "outputs": [],
   "source": []
  }
 ],
 "metadata": {
  "kernelspec": {
   "display_name": "Rust",
   "language": "rust",
   "name": "rust"
  },
  "language_info": {
   "codemirror_mode": "rust",
   "file_extension": ".rs",
   "mimetype": "text/rust",
   "name": "Rust",
   "pygment_lexer": "rust",
   "version": ""
  }
 },
 "nbformat": 4,
 "nbformat_minor": 5
}
