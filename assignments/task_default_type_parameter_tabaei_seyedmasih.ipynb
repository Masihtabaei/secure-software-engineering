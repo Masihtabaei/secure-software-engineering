{
 "cells": [
  {
   "cell_type": "markdown",
   "id": "09fa0c5b-71f1-4a72-9c2c-af7de8358042",
   "metadata": {},
   "source": [
    "# Aufgabe: Default Type Parameter\n",
    "\n",
    "Betrachten Sie zunächst das Beispiel zum _Default Type Parameter_ aus der Vorlesung."
   ]
  },
  {
   "cell_type": "markdown",
   "id": "7fa938d4-d43f-4f93-8601-f638d433ddb6",
   "metadata": {},
   "source": [
    "* (a) Ergänzen Sie nun eine weitere Implementierung für die Spezialisierung des generischen Parameters auf `<i8>`. Verwenden Sie auch die `Type as Trait` Typ-Umwandlung (obgleich dies hier auch durch ein einfaches `as` beim Argument des Aufrufs gelöst werden könnte)."
   ]
  },
  {
   "cell_type": "code",
   "execution_count": 104,
   "id": "592d6532-9d48-4e35-8351-18d81e2c3222",
   "metadata": {},
   "outputs": [],
   "source": [
    "trait WithDef<T = u32> {\n",
    "  fn describe(&self, value: T);\n",
    "}\n",
    "\n",
    "struct S;\n",
    "\n",
    "impl WithDef for S {\n",
    "  fn describe(&self, value: u32) {\n",
    "    println!(\"number: {}\", value);\n",
    "  }\n",
    "}\n",
    "\n",
    "impl WithDef<i8> for S {\n",
    "  fn describe(&self, value: i8) {\n",
    "    println!(\"number: {}\", value);\n",
    "  }\n",
    "}"
   ]
  },
  {
   "cell_type": "code",
   "execution_count": 105,
   "id": "542787d4-ffb0-4c17-b88f-1f8722e4c817",
   "metadata": {},
   "outputs": [],
   "source": [
    "fn main() {\n",
    "    let myS: S = S {};\n",
    "    \n",
    "    myS.describe(4 as u32);\n",
    "    myS.describe(-5 as i8);\n",
    "    \n",
    "    <S as WithDef<u32>>::describe(&myS, 4);\n",
    "    <S as WithDef<i8>>::describe(&myS, -5);\n",
    "}"
   ]
  },
  {
   "cell_type": "code",
   "execution_count": 106,
   "id": "fd1ab106-e2de-4fdf-9e0e-afaf1828ac64",
   "metadata": {},
   "outputs": [
    {
     "name": "stdout",
     "output_type": "stream",
     "text": [
      "number: 4\n",
      "number: -5\n",
      "number: 4\n",
      "number: -5\n"
     ]
    }
   ],
   "source": [
    "main();"
   ]
  }
 ],
 "metadata": {
  "kernelspec": {
   "display_name": "Rust",
   "language": "rust",
   "name": "rust"
  },
  "language_info": {
   "codemirror_mode": "rust",
   "file_extension": ".rs",
   "mimetype": "text/rust",
   "name": "Rust",
   "pygment_lexer": "rust",
   "version": ""
  }
 },
 "nbformat": 4,
 "nbformat_minor": 5
}
