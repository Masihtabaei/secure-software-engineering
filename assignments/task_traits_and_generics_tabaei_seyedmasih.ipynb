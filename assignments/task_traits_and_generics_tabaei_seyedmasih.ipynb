{
 "cells": [
  {
   "cell_type": "markdown",
   "id": "cfe0b210-d259-414f-8ea0-302ee7064e75",
   "metadata": {},
   "source": [
    "# Aufgabe: Generic Traits\n",
    "\n",
    "Im Folgenden soll das Beispiel zu den _Trait Generics_ aus der Vorlesung nochmal weiter vertieft werden.\n",
    "\n",
    "* Für den Struct `IntCollector` soll ergänzend noch ein weiterer generischer Trait definiert und implementiert werden.\n",
    "* Implementieren Sie hierzu einen generischen Trait `SumAdder`, welcher die `fn sum(&mut self) -> T;` Methode zusammen mit dem generischen Platzhalter `<T>` definiert.\n",
    "* Für den `IntCollector` soll hierbei jeweils der auf _PrimInt_ beschränkte, generische Typ elementweise aufaddiert und als einzelner Wert desselben Typs zurückgegeben werden.\n",
    "* Verwenden Sie diese Funktion beispielhaft in der `main()`.\n",
    "\n",
    "__Hinweis__:\n",
    "* Erstellen Sie zunächst ein Rust-Projekt mit `cargo init gentraits` und fügen sie die `num` Bibliothek mit `cargo add num` hinzu\n",
    "    * fügen Sie unten stehenden Code in die main.rs ein und erweitern Sie dann den Code\n",
    "    * Den für die Lösung programmierten Code können Sie dann direkt als `main.rs` heraufladen\n",
    "* Ggf. benötigen Sie `T::zero()` für eine Initialisierung des `T: PrimInt` mit Null:\n",
    "    * [https://docs.rs/num/latest/num/traits/fn.zero.html](https://docs.rs/num/latest/num/traits/fn.zero.html)"
   ]
  },
  {
   "cell_type": "code",
   "execution_count": null,
   "id": "7743dab8-aaa1-419f-8ab1-b9ac6a8a8219",
   "metadata": {},
   "outputs": [],
   "source": [
    "// Code-Vorlage\n",
    "use num::PrimInt;\n",
    "\n",
    "trait Collector<T: PrimInt> {\n",
    "  fn collect(&mut self, item: T);\n",
    "}\n",
    "\n",
    "struct IntCollector<T: PrimInt> {\n",
    "  data: Vec<T>,\n",
    "}\n",
    "\n",
    "impl<T: PrimInt> Collector<T>\n",
    "    for IntCollector<T> {\n",
    "  fn collect(&mut self, item: T) {\n",
    "    self.data.push(item);\n",
    "  }\n",
    "}\n",
    "\n",
    "fn main() {\n",
    "  let mut c1 = IntCollector::<i8>\n",
    "      { data: vec![] };\n",
    "  c1.collect(1);\n",
    "  c1.collect(-2);\n",
    "  println!(\"{:?}\", c1.data);\n",
    "\n",
    "  let mut c2 = IntCollector::<i16> { data: vec![] };\n",
    "  c2.collect(-10);\n",
    "  c2.collect(20);\n",
    "  println!(\"{:?}\", c2.data);\n",
    "}"
   ]
  },
  {
   "cell_type": "code",
   "execution_count": null,
   "id": "3bc2fa10-5919-4ca1-ad1f-80d36d29680a",
   "metadata": {},
   "outputs": [],
   "source": []
  }
 ],
 "metadata": {
  "kernelspec": {
   "display_name": "Rust",
   "language": "rust",
   "name": "rust"
  },
  "language_info": {
   "codemirror_mode": "rust",
   "file_extension": ".rs",
   "mimetype": "text/rust",
   "name": "Rust",
   "pygment_lexer": "rust",
   "version": ""
  }
 },
 "nbformat": 4,
 "nbformat_minor": 5
}
